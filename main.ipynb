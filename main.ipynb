{
 "cells": [
  {
   "cell_type": "code",
   "execution_count": 1,
   "id": "c3332c15",
   "metadata": {},
   "outputs": [],
   "source": [
    "from langchain_text_splitters import RecursiveCharacterTextSplitter\n",
    "from src.vectorizer.codebase_vectorizer import CodebaseVectorizer\n",
    "from src.embedding.ollama_embedder import OllamaEmbedder\n",
    "from src.vector_store.chroma_store import ChromaStore\n",
    "from langchain_community.vectorstores import Chroma\n",
    "from tqdm import tqdm"
   ]
  },
  {
   "cell_type": "code",
   "execution_count": 2,
   "id": "55b71a90",
   "metadata": {},
   "outputs": [],
   "source": [
    "# Global Variables\n",
    "CODEBASE_PATH = \"./sample_codebase/tiovx\"\n",
    "VECTOR_STORE_PATH = \"./db/tiovx_vectors\"\n",
    "MODEL = \"unclemusclez/jina-embeddings-v2-base-code:f16\"\n",
    "CODE_EXTENSIONS = {'.py', '.js', '.jsx', '.ts', '.tsx', '.cpp', '.c', '.h', '.mak', '.mk', '.cmake', '.sh', '.txt', '.md', '.json', '.yaml', '.yml', '.xml', '.html'}\n",
    "BATCH_SIZE = 32\n"
   ]
  },
  {
   "cell_type": "code",
   "execution_count": 3,
   "id": "be2608a7",
   "metadata": {},
   "outputs": [],
   "source": [
    "# create Embedder\n",
    "embedder = OllamaEmbedder(\n",
    "    url=\"http://localhost:11434\",\n",
    "    model_name=MODEL,\n",
    "    timeout=120\n",
    ")\n",
    "\n",
    "\n",
    "# create text splitter\n",
    "text_splitter = RecursiveCharacterTextSplitter(\n",
    "    chunk_size=1000,\n",
    "    chunk_overlap=200,\n",
    "    separators=[\"\\n\\n\", \"\\n\", \" \", \"\"]\n",
    ")"
   ]
  },
  {
   "cell_type": "code",
   "execution_count": 4,
   "id": "ec336bd7",
   "metadata": {},
   "outputs": [
    {
     "name": "stdout",
     "output_type": "stream",
     "text": [
      "Starting vectorization of sample_codebase/tiovx\n",
      "Found 889 code files\n",
      "Created 17635 code chunks\n",
      "Created 17635 code chunks\n"
     ]
    }
   ],
   "source": [
    "# create vectorizer\n",
    "vectorizer = CodebaseVectorizer(codebase_path=CODEBASE_PATH,\n",
    "                                embedder=embedder,\n",
    "                                text_splitter=text_splitter,\n",
    "                                code_extensions=CODE_EXTENSIONS,\n",
    "                                batch_size=BATCH_SIZE)\n",
    "\n",
    "texts, metadatas = vectorizer.vectorize_codebase()"
   ]
  },
  {
   "cell_type": "code",
   "execution_count": 5,
   "id": "877e498e",
   "metadata": {},
   "outputs": [
    {
     "name": "stderr",
     "output_type": "stream",
     "text": [
      "/var/folders/m8/ggm96s8s58lcpvqp_rjj47m00000gn/T/ipykernel_41201/3785272244.py:1: LangChainDeprecationWarning: The class `Chroma` was deprecated in LangChain 0.2.9 and will be removed in 1.0. An updated version of the class exists in the :class:`~langchain-chroma package and should be used instead. To use it run `pip install -U :class:`~langchain-chroma` and import as `from :class:`~langchain_chroma import Chroma``.\n",
      "  vector_store = Chroma(\n"
     ]
    }
   ],
   "source": [
    "vector_store = Chroma(\n",
    "    embedding_function=embedder,\n",
    "    persist_directory=VECTOR_STORE_PATH\n",
    ")"
   ]
  },
  {
   "cell_type": "code",
   "execution_count": 6,
   "id": "65fb8dbc",
   "metadata": {},
   "outputs": [
    {
     "name": "stderr",
     "output_type": "stream",
     "text": [
      "Processing Batches: 100%|██████████| 552/552 [09:30<00:00,  1.03s/it]\n"
     ]
    }
   ],
   "source": [
    "def embed_documents_in_batches(texts, metadatas, batch_size=16, max_workers=4):\n",
    "    for i in tqdm(range(0, len(texts), batch_size), desc=\"Processing Batches\"):\n",
    "        texts_batch = texts[i:i + batch_size]\n",
    "        metadatas_batch = metadatas[i:i + batch_size]\n",
    "        vector_store.add_texts(texts=texts_batch, metadatas=metadatas_batch)\n",
    "\n",
    "embed_documents_in_batches(texts, metadatas, batch_size=BATCH_SIZE, max_workers=4)"
   ]
  },
  {
   "cell_type": "code",
   "execution_count": 7,
   "id": "356262c5",
   "metadata": {},
   "outputs": [],
   "source": [
    "def query_codebase(vector_store, query, top_k=5):\n",
    "    results = vector_store.similarity_search_with_score(query, k=top_k)\n",
    "    for i, (doc, score) in enumerate(results):\n",
    "        print(f\"Result {i+1}:\")\n",
    "        print(f\"Score: {score}\")\n",
    "        print(f\"Content: {doc.page_content}\")\n",
    "        print(f\"Metadata: {doc.metadata}\\n\")\n"
   ]
  },
  {
   "cell_type": "code",
   "execution_count": 14,
   "id": "a10fd30d",
   "metadata": {},
   "outputs": [
    {
     "name": "stdout",
     "output_type": "stream",
     "text": [
      "Result 1:\n",
      "Score: 0.43948811292648315\n",
      "Content: return status;\n",
      "}\n",
      "\n",
      "VX_API_ENTRY vx_status VX_API_CALL vxEnableGraphStreaming(vx_graph graph, vx_node trigger_node)\n",
      "{\n",
      "    vx_status status = (vx_status)VX_ERROR_INVALID_PARAMETERS;\n",
      "\n",
      "    if(ownIsValidSpecificReference(vxCastRefFromGraph(graph), (vx_enum)VX_TYPE_GRAPH) != (vx_bool)vx_false_e)\n",
      "    {\n",
      "        graph->is_streaming_enabled = (vx_bool)vx_true_e;\n",
      "        graph->is_pipelining_enabled = (vx_bool)vx_true_e;\n",
      "\n",
      "        status = (vx_status)VX_SUCCESS;\n",
      "\n",
      "        if(ownIsValidSpecificReference(vxCastRefFromNode(trigger_node), (vx_enum)VX_TYPE_NODE) != (vx_bool)vx_false_e)\n",
      "        {\n",
      "            int32_t i;\n",
      "\n",
      "            for (i = 0; i < (int32_t)graph->num_nodes; i++)\n",
      "            {\n",
      "                if (graph->nodes[i] == trigger_node)\n",
      "                {\n",
      "                    graph->trigger_node_index = (uint32_t)i;\n",
      "                    graph->trigger_node_set = (vx_bool)vx_true_e;\n",
      "                    break;\n",
      "                }\n",
      "            }\n",
      "Metadata: {'chunk_size': 938, 'relative_path': 'source/framework/vx_graph_stream.c', 'file_path': 'sample_codebase/tiovx/source/framework/vx_graph_stream.c', 'file_extension': '.c', 'language': 'c', 'chunk_id': 16}\n",
      "\n",
      "Result 2:\n",
      "Score: 0.476357638835907\n",
      "Content: /*! \\brief Enable streaming mode of graph execution\n",
      " *\n",
      " * This API enables streaming mode of graph execution on the given graph. The node given on the API is set as the\n",
      " * trigger node. A trigger node is defined as the node whose completion causes a new execution of the graph to be\n",
      " * triggered.\n",
      " *\n",
      " * \\param graph [in] Reference to the graph to enable streaming mode of execution.\n",
      " * \\param trigger_node  [in][optional] Reference to the node to be used for trigger node of the graph.\n",
      " *\n",
      " * \\return A <tt>\\ref vx_status_e</tt> enumeration.\n",
      " * \\retval VX_SUCCESS No errors; any other value indicates failure.\n",
      " * \\retval VX_ERROR_INVALID_REFERENCE graph is not a valid <tt>\\ref vx_graph</tt> reference\n",
      " *\n",
      " * \\ingroup group_streaming\n",
      " */\n",
      "VX_API_ENTRY vx_status VX_API_CALL vxEnableGraphStreaming(vx_graph graph, vx_node trigger_node);\n",
      "Metadata: {'language': 'c', 'chunk_size': 832, 'file_path': 'sample_codebase/tiovx/include/VX/vx_khr_pipelining.h', 'file_extension': '.h', 'relative_path': 'include/VX/vx_khr_pipelining.h', 'chunk_id': 59}\n",
      "\n",
      "Result 3:\n",
      "Score: 0.48838457465171814\n",
      "Content: status = ownSendUserGraphEvent(graph, START, NULL);\n",
      "\n",
      "                if (status != (vx_status)VX_SUCCESS)\n",
      "                {\n",
      "                    VX_PRINT(VX_ZONE_ERROR, \"ownSendUserGraphEvent() failed.\\n\");\n",
      "                }\n",
      "            }\n",
      "            else\n",
      "            {\n",
      "                VX_PRINT(VX_ZONE_ERROR, \"this graph is currently streaming\\n\");\n",
      "                status = (vx_status)VX_ERROR_INVALID_REFERENCE;\n",
      "            }\n",
      "        }\n",
      "        else\n",
      "        {\n",
      "            VX_PRINT(VX_ZONE_ERROR, \"streaming has not been enabled. Please enable streaming prior to verifying graph\\n\");\n",
      "            status = (vx_status)VX_ERROR_INVALID_PARAMETERS;\n",
      "        }\n",
      "    }\n",
      "    else\n",
      "    {\n",
      "        VX_PRINT(VX_ZONE_ERROR, \"invalid graph reference\\n\");\n",
      "        status = (vx_status)VX_ERROR_INVALID_REFERENCE;\n",
      "    }\n",
      "\n",
      "    return status;\n",
      "}\n",
      "\n",
      "VX_API_ENTRY vx_status vxStopGraphStreaming(vx_graph graph)\n",
      "{\n",
      "    vx_status status = (vx_status)VX_SUCCESS;\n",
      "Metadata: {'relative_path': 'source/framework/vx_graph_stream.c', 'file_path': 'sample_codebase/tiovx/source/framework/vx_graph_stream.c', 'chunk_size': 929, 'file_extension': '.c', 'language': 'c', 'chunk_id': 11}\n",
      "\n",
      "Result 4:\n",
      "Score: 0.5130621194839478\n",
      "Content: status = vxEnableGraphStreaming(graph, node0);\n",
      "    /**\n",
      "     * - Verify graph object.\n",
      "     *\n",
      "     * Verifies that all parameters of graph object are valid.\n",
      "     *\n",
      "     * \\code\n",
      "     */\n",
      "    status = vxVerifyGraph(graph);\n",
      "    /** \\endcode */\n",
      "\n",
      "    /**\n",
      "     * - Show graph attributes.\n",
      "     *\n",
      "     * Follow the comments in show_graph_attributes() to see\n",
      "     * how graph attributes are queried and displayed.\n",
      "     * \\code\n",
      "     */\n",
      "    show_graph_attributes(graph);\n",
      "    /** \\endcode */\n",
      "\n",
      "    /**\n",
      "     * - Show node attributes.\n",
      "     *\n",
      "     * Follow the comments in show_node_attributes() to see\n",
      "     * how node attributes are queried and displayed.\n",
      "     * \\code\n",
      "     */\n",
      "    show_node_attributes(node0);\n",
      "    show_node_attributes(node1);\n",
      "\n",
      "    printf(\"Input scalar value = %d\\n\", scalar_val);\n",
      "\n",
      "    if(status==(vx_status)VX_SUCCESS)\n",
      "    {\n",
      "        printf(\" Executing graph ...\\n\");\n",
      "\n",
      "        vxStartGraphStreaming(graph);\n",
      "\n",
      "        tivxTaskWaitMsecs(50);\n",
      "\n",
      "        vxStopGraphStreaming(graph);\n",
      "Metadata: {'chunk_size': 974, 'file_extension': '.c', 'relative_path': 'tutorial/ch05_test_mcu/vx_tutorial_mcu_demo.c', 'language': 'c', 'chunk_id': 8, 'file_path': 'sample_codebase/tiovx/tutorial/ch05_test_mcu/vx_tutorial_mcu_demo.c'}\n",
      "\n",
      "Result 5:\n",
      "Score: 0.5407670140266418\n",
      "Content: /*! \\brief Start streaming mode of graph execution\n",
      " *\n",
      " * In streaming mode of graph execution, once an application starts graph execution\n",
      " * further intervention of the application is not needed to re-schedule a graph;\n",
      " * i.e. a graph re-schedules itself and executes continuously until streaming mode of execution is stopped.\n",
      " *\n",
      " * When this API is called, the framework schedules the graph via <tt>\\ref vxScheduleGraph</tt> and\n",
      " * returns.\n",
      " * This graph gets re-scheduled continuously until <tt>\\ref vxStopGraphStreaming</tt> is called by the user\n",
      " * or any of the graph nodes return error during execution.\n",
      " *\n",
      " * The graph MUST be verified via \\ref vxVerifyGraph before calling this API.\n",
      " * Also user application MUST ensure no previous executions of the graph are scheduled before calling this API.\n",
      " *\n",
      " * After streaming mode of a graph has been started, a <tt>\\ref vxScheduleGraph</tt> should **not** be used on that\n",
      " * graph by an application.\n",
      " *\n",
      "Metadata: {'relative_path': 'include/VX/vx_khr_pipelining.h', 'file_extension': '.h', 'file_path': 'sample_codebase/tiovx/include/VX/vx_khr_pipelining.h', 'language': 'c', 'chunk_id': 60, 'chunk_size': 952}\n",
      "\n"
     ]
    }
   ],
   "source": [
    "query = \"vxEnableGraphStreaming \"\n",
    "top_k = 5\n",
    "\n",
    "query_codebase(vector_store, query, top_k)"
   ]
  },
  {
   "cell_type": "code",
   "execution_count": null,
   "id": "272c531e",
   "metadata": {},
   "outputs": [],
   "source": []
  }
 ],
 "metadata": {
  "kernelspec": {
   "display_name": "vnev",
   "language": "python",
   "name": "python3"
  },
  "language_info": {
   "codemirror_mode": {
    "name": "ipython",
    "version": 3
   },
   "file_extension": ".py",
   "mimetype": "text/x-python",
   "name": "python",
   "nbconvert_exporter": "python",
   "pygments_lexer": "ipython3",
   "version": "3.10.11"
  }
 },
 "nbformat": 4,
 "nbformat_minor": 5
}
